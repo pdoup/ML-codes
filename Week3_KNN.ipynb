{
 "cells": [
  {
   "cell_type": "code",
   "execution_count": 257,
   "metadata": {},
   "outputs": [],
   "source": [
    "import numpy as np\n",
    "import random\n",
    "import pandas as pd\n",
    "import matplotlib.pyplot as plt\n",
    "\n",
    "import sklearn.metrics as metrics\n",
    "\n",
    "from sklearn.neighbors import KNeighborsClassifier\n",
    "from sklearn.preprocessing import MinMaxScaler, LabelEncoder\n",
    "from sklearn.model_selection import train_test_split\n",
    "\n",
    "random.seed = 42\n",
    "np.random.seed(1024)"
   ]
  },
  {
   "cell_type": "markdown",
   "metadata": {},
   "source": [
    "### Load Titanic dataset and select a subset of features, then split it to train/test (70/30) "
   ]
  },
  {
   "cell_type": "code",
   "execution_count": 258,
   "metadata": {},
   "outputs": [
    {
     "name": "stderr",
     "output_type": "stream",
     "text": [
      "/home/panos/.local/lib/python3.8/site-packages/pandas/core/indexing.py:1773: SettingWithCopyWarning: \n",
      "A value is trying to be set on a copy of a slice from a DataFrame.\n",
      "Try using .loc[row_indexer,col_indexer] = value instead\n",
      "\n",
      "See the caveats in the documentation: https://pandas.pydata.org/pandas-docs/stable/user_guide/indexing.html#returning-a-view-versus-a-copy\n",
      "  self._setitem_single_column(ilocs[0], value, pi)\n"
     ]
    }
   ],
   "source": [
    "titanic = pd.read_csv('titanic.csv', sep=',', skip_blank_lines=True, index_col=False)\n",
    "titanic_imp = pd.read_csv('titanic.csv', sep=',', skip_blank_lines=True, index_col=False)\n",
    "\n",
    "labelenc = LabelEncoder()\n",
    "\n",
    "X = titanic[[\"Survived\", \"Age\", \"Sex\", \"Fare\", \"Embarked\", \"SibSp\", \"Parch\"]]\n",
    "\n",
    "mean_age = X[\"Age\"].mean()\n",
    "X.loc[:, \"Age\"] = X.loc[:, \"Age\"].fillna(mean_age)\n",
    "\n",
    "X.loc[:, \"Embarked\"] = labelenc.fit_transform(X.loc[:, \"Embarked\"].values)\n",
    "X.loc[:, \"Sex\"] = labelenc.fit_transform(X.loc[:, \"Sex\"].values)\n",
    "\n",
    "y = X.iloc[:, 0].values\n",
    "X = X.drop(columns=\"Survived\").values\n",
    "\n",
    "X_imp = titanic_imp[[\"Age\", \"Sex\", \"Fare\", \"Embarked\", \"SibSp\", \"Parch\"]]\n",
    "\n",
    "X_imp.loc[:, \"Embarked\"] = labelenc.fit_transform(X_imp.loc[:, \"Embarked\"].values)\n",
    "X_imp.loc[:, \"Sex\"] = labelenc.fit_transform(X_imp.loc[:, \"Sex\"].values)\n",
    "\n",
    "X_imp = X_imp.values\n",
    "y_imp = titanic_imp.iloc[:, 1].values\n",
    " \n",
    "x_train, x_test, y_train, y_test = train_test_split(X,y,train_size=.7,random_state=42)\n",
    "x_train_imp, x_test_imp, y_train_imp, y_test_imp = train_test_split(X_imp,y_imp,train_size=.7, random_state=42)\n"
   ]
  },
  {
   "cell_type": "markdown",
   "metadata": {},
   "source": [
    "### Scaling"
   ]
  },
  {
   "cell_type": "code",
   "execution_count": 259,
   "metadata": {},
   "outputs": [],
   "source": [
    "scaler, scaler_imp = MinMaxScaler(feature_range=(0,3)), MinMaxScaler(feature_range=(0,3))\n",
    "\n",
    "scaler = scaler.fit(x_train)\n",
    "scaler_imp = scaler_imp.fit(x_train_imp)\n",
    "\n",
    "x_train_norm, x_test_norm = scaler.transform(x_train), scaler.transform(x_test)\n",
    "x_train_imp_norm, x_test_imp_norm = scaler_imp.transform(x_train_imp), scaler_imp.transform(x_test_imp)"
   ]
  },
  {
   "cell_type": "markdown",
   "metadata": {},
   "source": [
    "### Use sklearn's imputer to predict missing values of 'Age'  "
   ]
  },
  {
   "cell_type": "code",
   "execution_count": 260,
   "metadata": {},
   "outputs": [],
   "source": [
    "from sklearn.impute import KNNImputer\n",
    "\n",
    "imputer = KNNImputer(n_neighbors=3)\n",
    "imputer = imputer.fit(x_train_imp_norm)\n",
    "\n",
    "x_train_imp_norm_transformed = imputer.transform(x_train_imp_norm)\n",
    "x_test_imp_norm_transformed = imputer.transform(x_test_imp_norm)\n"
   ]
  },
  {
   "cell_type": "markdown",
   "metadata": {},
   "source": [
    "### Define two methods(for the default dataset and the one where we imputed missing values) to train the model and find the k-value with the highest F1 Score"
   ]
  },
  {
   "cell_type": "code",
   "execution_count": 261,
   "metadata": {},
   "outputs": [],
   "source": [
    "def evaluate_model(weight, p):\n",
    "  best_f1_score, best_nn = float('-inf'), 0\n",
    "  weights_, p_ = weight, p\n",
    "  f1_scores = []\n",
    "  y_pred = None\n",
    "\n",
    "  for n in range(1,201):\n",
    "    model = KNeighborsClassifier(n, weights=weights_, p=p_, metric='minkowski')\n",
    "    model = model.fit(x_train_norm, y_train)\n",
    "    y_predicted = model.predict(x_test)\n",
    "    f1_score = metrics.f1_score(y_test, y_predicted)\n",
    "    f1_scores += [f1_score]\n",
    "    \n",
    "    if f1_score > best_f1_score:\n",
    "      best_f1_score, best_nn = f1_score, n\n",
    "      y_pred = y_predicted\n",
    "  \n",
    "  print(f\"Best F1 Score : {np.round(best_f1_score*100, 5)}% for {best_nn} nearest neighbor(s)\")\n",
    "\n",
    "  return f1_scores, y_pred\n",
    "\n",
    "\n",
    "def evaluate_imputed_model(weight, p):\n",
    "  best_f1_score, best_nn = float('-inf'), 0\n",
    "  weights_, p_ = weight, p\n",
    "  f1_scores = []\n",
    "  y_pred = None\n",
    "\n",
    "  for n in range(1,201):\n",
    "    model = KNeighborsClassifier(n, weights=weights_, p=p_, metric='minkowski')\n",
    "    model = model.fit(x_train_imp_norm_transformed, y_train_imp)\n",
    "    y_predicted = model.predict(x_test_imp_norm_transformed)\n",
    "    f1_score = metrics.f1_score(y_test_imp, y_predicted)\n",
    "    f1_scores += [f1_score]\n",
    "    \n",
    "    if f1_score > best_f1_score:\n",
    "      best_f1_score, best_nn = f1_score, n\n",
    "      y_pred = y_predicted\n",
    "\n",
    "  print(f\"[Imputed Values] Best F1 Score : {np.round(best_f1_score*100, 5)}% for {best_nn} nearest neighbor(s)\")\n",
    "\n",
    "  return f1_scores, y_pred"
   ]
  },
  {
   "cell_type": "code",
   "execution_count": 262,
   "metadata": {},
   "outputs": [
    {
     "name": "stdout",
     "output_type": "stream",
     "text": [
      "==================\n",
      "Accuracy:  69.776%\n",
      "Precision: 59.375%\n",
      "Recall:    85.586%\n",
      "F1 Score:  70.111%\n"
     ]
    }
   ],
   "source": [
    "def show_stats(y_test_, y_pred):\n",
    "  print(\"=\" * 18)  \n",
    "  print(\"Accuracy: %7.3f%%\" %(metrics.accuracy_score(y_test_, y_pred) * 100))\n",
    "  print(\"Precision: %5.3f%%\" %(metrics.precision_score(y_test_, y_pred) * 100))\n",
    "  print(\"Recall: %9.3f%%\" %(metrics.recall_score(y_test_, y_pred) * 100))\n",
    "  print(\"F1 Score: %7.3f%%\" %(metrics.f1_score(y_test_, y_pred) * 100))\n",
    "\n",
    "model = KNeighborsClassifier(15, weights='uniform', p=2, metric='minkowski')\n",
    "model = model.fit(x_train_norm, y_train)\n",
    "y_predicted = model.predict(x_test)\n",
    "\n",
    "show_stats(y_test, y_predicted)"
   ]
  },
  {
   "cell_type": "markdown",
   "metadata": {},
   "source": [
    "# Find the optimal value for the nearest neighbors based on the F1 score and print stats  "
   ]
  },
  {
   "cell_type": "markdown",
   "metadata": {},
   "source": [
    "#### Uniform weights w/ p = 2"
   ]
  },
  {
   "cell_type": "code",
   "execution_count": 263,
   "metadata": {},
   "outputs": [
    {
     "name": "stdout",
     "output_type": "stream",
     "text": [
      "Best F1 Score : 73.77049% for 52 nearest neighbor(s)\n",
      "==================\n",
      "Accuracy:  76.119%\n",
      "Precision: 67.669%\n",
      "Recall:    81.081%\n",
      "F1 Score:  73.770%\n",
      "[Imputed Values] Best F1 Score : 76.92308% for 13 nearest neighbor(s)\n",
      "==================\n",
      "Accuracy:  82.090%\n",
      "Precision: 82.474%\n",
      "Recall:    72.072%\n",
      "F1 Score:  76.923%\n"
     ]
    }
   ],
   "source": [
    "f1_scores_uniform_p2, y_predicted_uniform_p2 = evaluate_model('uniform', 2)\n",
    "show_stats(y_test, y_predicted_uniform_p2)\n",
    "\n",
    "f1_scores_uniform_p2_imp, y_predicted_uniform_p2_imp = evaluate_imputed_model('uniform', 2)\n",
    "show_stats(y_test_imp, y_predicted_uniform_p2_imp)"
   ]
  },
  {
   "cell_type": "markdown",
   "metadata": {},
   "source": [
    "#### Distance weighing w/ p = 2"
   ]
  },
  {
   "cell_type": "code",
   "execution_count": 264,
   "metadata": {},
   "outputs": [
    {
     "name": "stdout",
     "output_type": "stream",
     "text": [
      "Best F1 Score : 74.80916% for 52 nearest neighbor(s)\n",
      "==================\n",
      "Accuracy:  75.373%\n",
      "Precision: 64.901%\n",
      "Recall:    88.288%\n",
      "F1 Score:  74.809%\n",
      "[Imputed Values] Best F1 Score : 73.14815% for 10 nearest neighbor(s)\n",
      "==================\n",
      "Accuracy:  78.358%\n",
      "Precision: 75.238%\n",
      "Recall:    71.171%\n",
      "F1 Score:  73.148%\n"
     ]
    }
   ],
   "source": [
    "f1_scores_distance_p2, y_predicted_distance_p2 = evaluate_model('distance', 2)\n",
    "show_stats(y_test, y_predicted_distance_p2)\n",
    "\n",
    "f1_scores_distance_p2_imp, y_predicted_distance_p2_imp = evaluate_imputed_model('distance', 2)\n",
    "show_stats(y_test_imp, y_predicted_distance_p2_imp)"
   ]
  },
  {
   "cell_type": "markdown",
   "metadata": {},
   "source": [
    "#### Uniform weights w/ p = 1"
   ]
  },
  {
   "cell_type": "code",
   "execution_count": 265,
   "metadata": {},
   "outputs": [
    {
     "name": "stdout",
     "output_type": "stream",
     "text": [
      "Best F1 Score : 68.93939% for 200 nearest neighbor(s)\n",
      "==================\n",
      "Accuracy:  69.403%\n",
      "Precision: 59.477%\n",
      "Recall:    81.982%\n",
      "F1 Score:  68.939%\n",
      "[Imputed Values] Best F1 Score : 77.14286% for 22 nearest neighbor(s)\n",
      "==================\n",
      "Accuracy:  82.090%\n",
      "Precision: 81.818%\n",
      "Recall:    72.973%\n",
      "F1 Score:  77.143%\n"
     ]
    }
   ],
   "source": [
    "f1_scores_uniform_p1, y_predicted_uniform_p1 = evaluate_model('uniform', 1)\n",
    "show_stats(y_test, y_predicted_uniform_p1)\n",
    "\n",
    "f1_scores_uniform_p1_imp, y_predicted_uniform_p1_imp = evaluate_imputed_model('uniform', 1)\n",
    "show_stats(y_test_imp, y_predicted_uniform_p1_imp)"
   ]
  },
  {
   "cell_type": "markdown",
   "metadata": {},
   "source": [
    "#### Distance weighing w/ p = 1"
   ]
  },
  {
   "cell_type": "code",
   "execution_count": 266,
   "metadata": {},
   "outputs": [
    {
     "name": "stdout",
     "output_type": "stream",
     "text": [
      "Best F1 Score : 67.88321% for 195 nearest neighbor(s)\n",
      "==================\n",
      "Accuracy:  67.164%\n",
      "Precision: 57.055%\n",
      "Recall:    83.784%\n",
      "F1 Score:  67.883%\n",
      "[Imputed Values] Best F1 Score : 75.45455% for 9 nearest neighbor(s)\n",
      "==================\n",
      "Accuracy:  79.851%\n",
      "Precision: 76.147%\n",
      "Recall:    74.775%\n",
      "F1 Score:  75.455%\n"
     ]
    }
   ],
   "source": [
    "f1_scores_distance_p1, y_predicted_distance_p1 = evaluate_model('distance', 1)\n",
    "show_stats(y_test, y_predicted_distance_p1)\n",
    "\n",
    "f1_scores_distance_p1_imp, y_predicted_distance_p1_imp = evaluate_imputed_model('distance', 1)\n",
    "show_stats(y_test_imp, y_predicted_distance_p1_imp)"
   ]
  },
  {
   "cell_type": "markdown",
   "metadata": {},
   "source": [
    "#### Uniform weights w/ p = 4"
   ]
  },
  {
   "cell_type": "code",
   "execution_count": 267,
   "metadata": {},
   "outputs": [
    {
     "name": "stdout",
     "output_type": "stream",
     "text": [
      "Best F1 Score : 68.49315% for 15 nearest neighbor(s)\n",
      "==================\n",
      "Accuracy:  74.254%\n",
      "Precision: 69.444%\n",
      "Recall:    67.568%\n",
      "F1 Score:  68.493%\n",
      "[Imputed Values] Best F1 Score : 77.88462% for 11 nearest neighbor(s)\n",
      "==================\n",
      "Accuracy:  82.836%\n",
      "Precision: 83.505%\n",
      "Recall:    72.973%\n",
      "F1 Score:  77.885%\n"
     ]
    }
   ],
   "source": [
    "f1_scores_uniform_p4, y_predicted_uniform_p4 = evaluate_model('uniform', 4)\n",
    "show_stats(y_test, y_predicted_uniform_p4)\n",
    "\n",
    "f1_scores_uniform_p4_imp, y_predicted_uniform_p4_imp = evaluate_imputed_model('uniform', 4)\n",
    "show_stats(y_test_imp, y_predicted_uniform_p4_imp)"
   ]
  },
  {
   "cell_type": "markdown",
   "metadata": {},
   "source": [
    "#### Distance weighing w/ p = 4"
   ]
  },
  {
   "cell_type": "code",
   "execution_count": 268,
   "metadata": {},
   "outputs": [
    {
     "name": "stdout",
     "output_type": "stream",
     "text": [
      "Best F1 Score : 68.49315% for 15 nearest neighbor(s)\n",
      "==================\n",
      "Accuracy:  74.254%\n",
      "Precision: 69.444%\n",
      "Recall:    67.568%\n",
      "F1 Score:  68.493%\n",
      "[Imputed Values] Best F1 Score : 73.23944% for 29 nearest neighbor(s)\n",
      "==================\n",
      "Accuracy:  78.731%\n",
      "Precision: 76.471%\n",
      "Recall:    70.270%\n",
      "F1 Score:  73.239%\n"
     ]
    }
   ],
   "source": [
    "f1_scores_distance_p4, y_predicted_distance_p4 = evaluate_model('distance', 4)\n",
    "show_stats(y_test, y_predicted_distance_p4)\n",
    "\n",
    "f1_scores_distance_p4_imp, y_predicted_distance_p4_imp = evaluate_imputed_model('distance', 4)\n",
    "show_stats(y_test_imp, y_predicted_distance_p4_imp)"
   ]
  },
  {
   "cell_type": "code",
   "execution_count": 269,
   "metadata": {},
   "outputs": [
    {
     "data": {
      "image/png": "[encoded data removed]",
      "text/plain": [
       "<Figure size 432x288 with 1 Axes>"
      ]
     },
     "metadata": {
      "needs_background": "light"
     },
     "output_type": "display_data"
    }
   ],
   "source": [
    "plt.title('k-Nearest Neighbors (Weights = \"uniform\", Metric = \"Minkowski\", p = 2)')\n",
    "plt.plot(f1_scores_uniform_p2_imp, 'g', label='with impute')\n",
    "plt.plot(f1_scores_uniform_p2, '-b', label='without impute')\n",
    "plt.legend()\n",
    "plt.xlabel('Number of neighbors')\n",
    "plt.ylabel('F1')\n",
    "plt.show()"
   ]
  }
 ],
 "metadata": {
  "interpreter": {
   "hash": "31f2aee4e71d21fbe5cf8b01ff0e069b9275f58929596ceb00d14d90e3e16cd6"
  },
  "kernelspec": {
   "display_name": "Python 3 (ipykernel)",
   "language": "python",
   "name": "python3"
  },
  "language_info": {
   "codemirror_mode": {
    "name": "ipython",
    "version": 3
   },
   "file_extension": ".py",
   "mimetype": "text/x-python",
   "name": "python",
   "nbconvert_exporter": "python",
   "pygments_lexer": "ipython3",
   "version": "3.8.10"
  }
 },
 "nbformat": 4,
 "nbformat_minor": 2
}
