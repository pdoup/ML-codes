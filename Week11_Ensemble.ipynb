{
 "cells": [
  {
   "cell_type": "code",
   "execution_count": 1,
   "id": "e0c65f9b-9d42-4f3d-b012-392878d8e242",
   "metadata": {},
   "outputs": [],
   "source": [
    "from sklearn.ensemble import BaggingClassifier, RandomForestClassifier\n",
    "from sklearn.datasets import load_breast_cancer\n",
    "from sklearn.model_selection import train_test_split\n",
    "from sklearn.tree import DecisionTreeClassifier\n",
    "from sklearn.preprocessing import StandardScaler\n",
    "from sklearn import metrics\n",
    "\n",
    "import numpy as np\n",
    "\n",
    "import matplotlib.pyplot as plt"
   ]
  },
  {
   "cell_type": "markdown",
   "id": "9204939d-0bb2-466d-9485-fda8b9c9cb6c",
   "metadata": {},
   "source": [
    "#### Load the dataset"
   ]
  },
  {
   "cell_type": "code",
   "execution_count": 2,
   "id": "30b71f6b-7629-4653-8d38-1b61933664e7",
   "metadata": {},
   "outputs": [],
   "source": [
    "X, y = load_breast_cancer(return_X_y=True)"
   ]
  },
  {
   "cell_type": "code",
   "execution_count": 3,
   "id": "c24cc027-54f8-44ce-8ad3-2d5c0d50f606",
   "metadata": {},
   "outputs": [],
   "source": [
    "np.random.seed(142)\n",
    "\n",
    "X_train, X_test, y_train, y_test = train_test_split(X, y, test_size=.3)"
   ]
  },
  {
   "cell_type": "markdown",
   "id": "8152dba1-16b2-4bf6-8870-83fe237bcea5",
   "metadata": {},
   "source": [
    "### Scale the data"
   ]
  },
  {
   "cell_type": "code",
   "execution_count": 4,
   "id": "b4ee4c10-88b9-4723-ad2c-5b25e407820d",
   "metadata": {},
   "outputs": [],
   "source": [
    "sc = StandardScaler()\n",
    "\n",
    "X_train = sc.fit_transform(X_train)\n",
    "X_test = sc.transform(X_test)"
   ]
  },
  {
   "cell_type": "markdown",
   "id": "d3f114e9-3e4d-4a99-88ff-f024daa18024",
   "metadata": {},
   "source": [
    "### Classify using Decision trees as a baseline"
   ]
  },
  {
   "cell_type": "code",
   "execution_count": 5,
   "id": "74281ccb-1b14-466a-b252-aa4b319d82b3",
   "metadata": {},
   "outputs": [
    {
     "data": {
      "text/plain": [
       "DecisionTreeClassifier(criterion='entropy')"
      ]
     },
     "execution_count": 5,
     "metadata": {},
     "output_type": "execute_result"
    }
   ],
   "source": [
    "clf = DecisionTreeClassifier(criterion=\"entropy\")\n",
    "\n",
    "clf.fit(X_train, y_train)"
   ]
  },
  {
   "cell_type": "code",
   "execution_count": 6,
   "id": "3845be5b-6cdd-4799-b1c2-614b895fa1c0",
   "metadata": {},
   "outputs": [],
   "source": [
    "y_pred = clf.predict(X_test)"
   ]
  },
  {
   "cell_type": "markdown",
   "id": "c20ba1e6-f578-44ae-ae33-225105931cc3",
   "metadata": {},
   "source": [
    "### Performance"
   ]
  },
  {
   "cell_type": "code",
   "execution_count": 7,
   "id": "0025f80e-528a-458d-bd5d-e9581e51eaf3",
   "metadata": {},
   "outputs": [],
   "source": [
    "def score(true : np.ndarray, pred : np.ndarray) -> list :\n",
    " \n",
    "    acc = np.round(metrics.accuracy_score(true, pred),7)\n",
    "    rec = np.round(metrics.recall_score(true, pred), 7)\n",
    "    prec = np.round(metrics.precision_score(true, pred), 7)\n",
    "    f1 = np.round(metrics.f1_score(true, pred), 7)\n",
    "    \n",
    "    print(f\"ACC  {metrics.accuracy_score(true, pred):.6f}\")\n",
    "    print(f\"REC  {metrics.recall_score(true, pred):.6f}\")\n",
    "    print(f\"PREC {metrics.precision_score(true, pred):.6f}\")\n",
    "    print(f\"F1   {metrics.f1_score(true, pred):.6f}\")\n",
    "    \n",
    "    return [acc, rec, prec, f1]\n"
   ]
  },
  {
   "cell_type": "code",
   "execution_count": 8,
   "id": "9d797e5c-edaf-4a62-9957-b8fad0085c0d",
   "metadata": {},
   "outputs": [
    {
     "name": "stdout",
     "output_type": "stream",
     "text": [
      "ACC  0.935673\n",
      "REC  0.932039\n",
      "PREC 0.960000\n",
      "F1   0.945813\n"
     ]
    },
    {
     "data": {
      "text/plain": [
       "[0.9356725, 0.9320388, 0.96, 0.9458128]"
      ]
     },
     "execution_count": 8,
     "metadata": {},
     "output_type": "execute_result"
    }
   ],
   "source": [
    "score(y_test, y_pred)"
   ]
  },
  {
   "cell_type": "markdown",
   "id": "3836942f-7cfc-475b-a8d2-3b14d0b3a8d0",
   "metadata": {},
   "source": [
    "## **Bagging**"
   ]
  },
  {
   "cell_type": "code",
   "execution_count": 9,
   "id": "08ce5c13-1e43-48da-b228-fdaba26cb445",
   "metadata": {},
   "outputs": [
    {
     "data": {
      "text/plain": [
       "BaggingClassifier(base_estimator=DecisionTreeClassifier(criterion='entropy'),\n",
       "                  n_estimators=50, oob_score=True)"
      ]
     },
     "execution_count": 9,
     "metadata": {},
     "output_type": "execute_result"
    }
   ],
   "source": [
    "bag = BaggingClassifier(base_estimator=clf, bootstrap=True, oob_score=True, n_estimators=50)\n",
    "\n",
    "bag.fit(X_train, y_train)"
   ]
  },
  {
   "cell_type": "code",
   "execution_count": 10,
   "id": "089f18f6-490f-4cd9-a242-68c3fb37ca81",
   "metadata": {},
   "outputs": [
    {
     "name": "stdout",
     "output_type": "stream",
     "text": [
      "Scores after bagging\n",
      "\n",
      "ACC  0.976608\n",
      "REC  0.980583\n",
      "PREC 0.980583\n",
      "F1   0.980583\n"
     ]
    }
   ],
   "source": [
    "print(\"Scores after bagging\", end='\\n\\n')\n",
    "y_pred_bag = bag.predict(X_test)\n",
    "\n",
    "bag_scores = score(y_test, y_pred_bag)"
   ]
  },
  {
   "cell_type": "markdown",
   "id": "630d2f1f-f909-46e0-851a-23fe3fb71ee0",
   "metadata": {},
   "source": [
    "### Compare with Random Forest"
   ]
  },
  {
   "cell_type": "code",
   "execution_count": 11,
   "id": "323e0085-6a35-41b6-839a-71077073bd72",
   "metadata": {},
   "outputs": [
    {
     "data": {
      "text/plain": [
       "RandomForestClassifier(criterion='entropy', n_estimators=50)"
      ]
     },
     "execution_count": 11,
     "metadata": {},
     "output_type": "execute_result"
    }
   ],
   "source": [
    "clf_rf =  RandomForestClassifier(n_estimators=50, criterion='entropy')\n",
    "\n",
    "clf_rf.fit(X_train, y_train)"
   ]
  },
  {
   "cell_type": "code",
   "execution_count": 12,
   "id": "0de12872-3269-4e2a-bf65-05e3c07fc195",
   "metadata": {},
   "outputs": [
    {
     "name": "stdout",
     "output_type": "stream",
     "text": [
      "ACC  0.959064\n",
      "REC  0.970874\n",
      "PREC 0.961538\n",
      "F1   0.966184\n"
     ]
    }
   ],
   "source": [
    "y_pred_rf = clf_rf.predict(X_test)\n",
    "\n",
    "rf_scores = score(y_test, y_pred_rf)"
   ]
  },
  {
   "cell_type": "markdown",
   "id": "f59b2e33-b0e8-456e-8776-a4cfe24eca0f",
   "metadata": {},
   "source": [
    "### Barchart to compare 2 models"
   ]
  },
  {
   "cell_type": "code",
   "execution_count": 14,
   "id": "393bf9f0-2f38-4e93-9a96-0dd6aa9db485",
   "metadata": {},
   "outputs": [
    {
     "data": {
      "image/png": "[encoded data removed]",
      "text/plain": [
       "<Figure size 720x432 with 1 Axes>"
      ]
     },
     "metadata": {
      "needs_background": "light"
     },
     "output_type": "display_data"
    }
   ],
   "source": [
    "labels = ['Accuracy', 'Recall', 'Precision', 'F1 Score']\n",
    "\n",
    "x = np.arange(len(labels))  # the label locations\n",
    "width = 0.4  # the width of the bars\n",
    "\n",
    "fig, ax = plt.subplots()\n",
    "\n",
    "\n",
    "plt.rcParams[\"figure.figsize\"] = (10,6)\n",
    "\n",
    "rects1 = ax.bar(x - width/2, bag_scores, width, label='Bagging', color=\"brown\", edgecolor=\"black\")\n",
    "rects2 = ax.bar(x + width/2, rf_scores, width, label='Random Forest', color=\"gold\",edgecolor=\"black\")\n",
    "\n",
    "# Add some text for labels, title and custom x-axis tick labels, etc.\n",
    "ax.set_ylabel('Scores')\n",
    "ax.set_title('Scores by Bagging and Random Forest models', fontsize=16)\n",
    "ax.set_xticks(x, labels, fontsize=12)\n",
    "ax.legend(bbox_to_anchor=(.85, 1.05), loc=3, borderaxespad=0.)\n",
    "\n",
    "ax.bar_label(rects1, padding=2)\n",
    "ax.bar_label(rects2, padding=2)\n",
    "\n",
    "plt.show()"
   ]
  }
 ],
 "metadata": {
  "kernelspec": {
   "display_name": "Python 3 (ipykernel)",
   "language": "python",
   "name": "python3"
  },
  "language_info": {
   "codemirror_mode": {
    "name": "ipython",
    "version": 3
   },
   "file_extension": ".py",
   "mimetype": "text/x-python",
   "name": "python",
   "nbconvert_exporter": "python",
   "pygments_lexer": "ipython3",
   "version": "3.9.7"
  }
 },
 "nbformat": 4,
 "nbformat_minor": 5
}
