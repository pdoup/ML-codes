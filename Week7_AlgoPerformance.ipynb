{
 "cells": [
  {
   "cell_type": "markdown",
   "metadata": {},
   "source": [
    "# Task 6 - Friedman Test"
   ]
  },
  {
   "cell_type": "markdown",
   "metadata": {},
   "source": [
    "#### Ο πίνακας algo_performance.csv [1] περιέχει τις αποδόσεις (accuracy) 5 αλγορίθμων μηχανικής μάθησης σε 30 dataset. Να χρησιμοποιήσετε το Friedman test για να ελέγξετε εάν ισχύει η υπόθεση πως οι αλγόριθμοι σε αυτό το dataset δεν έχουν μεταξύ τους στατιστικά σημαντικές διαφορές. Ο έλεγχος να γίνει για διάφορες τιμές του α (διάστημα εμπιστοσύνης). Να παραδοθεί μόνον ο κώδικας."
   ]
  },
  {
   "cell_type": "code",
   "execution_count": 21,
   "metadata": {},
   "outputs": [],
   "source": [
    "import numpy as np\n",
    "\n",
    "from scipy.stats import friedmanchisquare\n",
    "\n",
    "\n",
    "path_to_file = 'algo_performance.csv'\n",
    "np.set_printoptions(precision=5)"
   ]
  },
  {
   "cell_type": "markdown",
   "metadata": {},
   "source": [
    "### Load the csv file and unpack to 5 vectors, one for each algorithm"
   ]
  },
  {
   "cell_type": "code",
   "execution_count": 22,
   "metadata": {},
   "outputs": [],
   "source": [
    "data = np.genfromtxt(path_to_file, dtype=np.float32, delimiter=',', skip_header=True).T\n",
    "\n",
    "c45, _1_nn, NB, kernel, cn2 = data"
   ]
  },
  {
   "cell_type": "markdown",
   "metadata": {},
   "source": [
    "### Run the Friedman test"
   ]
  },
  {
   "cell_type": "code",
   "execution_count": 23,
   "metadata": {},
   "outputs": [],
   "source": [
    "friedman_test = friedmanchisquare(c45, _1_nn, NB, kernel, cn2)"
   ]
  },
  {
   "cell_type": "markdown",
   "metadata": {},
   "source": [
    "### Check if the Null hypothesis is rejected for confidence levels\n",
    "- - - -\n",
    "* ### a = 0.001\n",
    "* ### a = 0.01\n",
    "* ### a = 0.05 *\n",
    "* ### a = 0.1 \n",
    "* ### a = 0.15\n",
    "* ### a = 0.2\n"
   ]
  },
  {
   "cell_type": "code",
   "execution_count": 24,
   "metadata": {},
   "outputs": [
    {
     "name": "stdout",
     "output_type": "stream",
     "text": [
      "Rejecting Null Hypothesis for significance level a = 0.001 > 4.512033059024698e-08 (p-value)\n",
      "Rejecting Null Hypothesis for significance level a = 0.01 > 4.512033059024698e-08 (p-value)\n",
      "Rejecting Null Hypothesis for significance level a = 0.05 > 4.512033059024698e-08 (p-value)\n",
      "Rejecting Null Hypothesis for significance level a = 0.1 > 4.512033059024698e-08 (p-value)\n",
      "Rejecting Null Hypothesis for significance level a = 0.15 > 4.512033059024698e-08 (p-value)\n",
      "Rejecting Null Hypothesis for significance level a = 0.2 > 4.512033059024698e-08 (p-value)\n"
     ]
    }
   ],
   "source": [
    "p = friedman_test.pvalue\n",
    "\n",
    "for a in (.001, .01, .05, .1, .15, .2):\n",
    "    if p < a:\n",
    "        print(\"Rejecting Null Hypothesis for significance level a = {0} > {1} (p-value)\".format(a,p))\n"
   ]
  }
 ],
 "metadata": {
  "interpreter": {
   "hash": "18e396f74e0be925fff39012dface06dcb4ee93bcd01f6664059f1b92a4d49a1"
  },
  "kernelspec": {
   "display_name": "Python 3.9.8 64-bit",
   "language": "python",
   "name": "python3"
  },
  "language_info": {
   "codemirror_mode": {
    "name": "ipython",
    "version": 3
   },
   "file_extension": ".py",
   "mimetype": "text/x-python",
   "name": "python",
   "nbconvert_exporter": "python",
   "pygments_lexer": "ipython3",
   "version": "3.9.8"
  },
  "orig_nbformat": 4
 },
 "nbformat": 4,
 "nbformat_minor": 2
}
