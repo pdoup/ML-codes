{
 "cells": [
  {
   "cell_type": "markdown",
   "metadata": {},
   "source": [
    "## SVM\n",
    "##### 10/12/21"
   ]
  },
  {
   "cell_type": "code",
   "execution_count": 250,
   "metadata": {},
   "outputs": [],
   "source": [
    "import pandas as pd\n",
    "import numpy as np\n",
    "\n",
    "from sklearn.model_selection import train_test_split\n",
    "from sklearn.metrics import recall_score, precision_score, f1_score, accuracy_score\n",
    "from sklearn.preprocessing import MinMaxScaler\n",
    "from sklearn.metrics import confusion_matrix\n",
    "from sklearn.svm import SVC\n",
    "\n",
    "np.random.seed(42)"
   ]
  },
  {
   "cell_type": "markdown",
   "metadata": {},
   "source": [
    "#### Read the input file\n",
    "###### Discard the `Time` variable"
   ]
  },
  {
   "cell_type": "code",
   "execution_count": 251,
   "metadata": {},
   "outputs": [],
   "source": [
    "df = pd.read_csv(\"creditcard.csv\", sep = ',')\n",
    "\n",
    "df[\"Time\"] = pd.to_numeric(df[\"Time\"], downcast='integer')\n",
    "df = df.drop(\"Time\", axis=1)"
   ]
  },
  {
   "cell_type": "markdown",
   "metadata": {},
   "source": [
    "#### Split the data to train-test"
   ]
  },
  {
   "cell_type": "code",
   "execution_count": 252,
   "metadata": {},
   "outputs": [],
   "source": [
    "X, y = df.drop(columns=\"Class\"), df[\"Class\"]\n",
    "\n",
    "train_X, test_X, train_Y, test_Y = train_test_split(X, y, test_size=.2, stratify=y)"
   ]
  },
  {
   "cell_type": "markdown",
   "metadata": {},
   "source": [
    "#### Scale the ```Amount``` column [0,1]"
   ]
  },
  {
   "cell_type": "code",
   "execution_count": 253,
   "metadata": {},
   "outputs": [],
   "source": [
    "min_max_scaler = MinMaxScaler()\n",
    " \n",
    "train_X['Amount'] = min_max_scaler.fit_transform(train_X[\"Amount\"].values.reshape(-1,1))\n",
    "test_X[\"Amount\"] = min_max_scaler.transform(test_X[\"Amount\"].values.reshape(-1,1))"
   ]
  },
  {
   "cell_type": "markdown",
   "metadata": {},
   "source": [
    "##### Deal with the imbalance of the 2 classes by undersampling the majority class, in our case the legitimate transactions, so that each class is equally represented in the training dataset "
   ]
  },
  {
   "cell_type": "code",
   "execution_count": 254,
   "metadata": {},
   "outputs": [],
   "source": [
    "df2 = pd.concat([train_X,train_Y], axis=1)\n",
    "\n",
    "n_legit, n_fraud = df2.Class.value_counts()\n",
    "\n",
    "df2_temp = df2[df2[\"Class\"] == 0].sample(n_fraud)\n",
    "\n",
    "df_downsampled = pd.concat([df2_temp, df2[df2[\"Class\"] == 1]])\n",
    "\n",
    "# Shuffle data\n",
    "df_downsampled = df_downsampled.sample(frac=1).reset_index(drop=True)\n",
    "\n",
    "train_X = df_downsampled.drop(\"Class\", axis=1)\n",
    "train_Y = df_downsampled.Class\n"
   ]
  },
  {
   "cell_type": "code",
   "execution_count": 255,
   "metadata": {},
   "outputs": [],
   "source": [
    "df3 = pd.concat([test_X, test_Y], axis=1)\n",
    "\n",
    "n_legit_t, n_fraud_t = df3.Class.value_counts()\n",
    "\n",
    "df3_temp = df3[df3[\"Class\"] == 0].sample(n_fraud_t)\n",
    "\n",
    "df3_downsampled = pd.concat([df3_temp, df3[df3[\"Class\"] == 1]])\n",
    "\n",
    "# Shuffle data\n",
    "df3_downsampled = df3_downsampled.sample(frac=1).reset_index(drop=True)\n",
    "\n",
    "test_X = df3_downsampled.drop(\"Class\", axis=1)\n",
    "test_Y = df3_downsampled.Class"
   ]
  },
  {
   "cell_type": "markdown",
   "metadata": {},
   "source": [
    "#### Train the SVM classifier on the training data"
   ]
  },
  {
   "cell_type": "code",
   "execution_count": 256,
   "metadata": {},
   "outputs": [
    {
     "data": {
      "text/plain": [
       "SVC(C=100, degree=5, gamma=5, kernel='sigmoid')"
      ]
     },
     "execution_count": 256,
     "metadata": {},
     "output_type": "execute_result"
    }
   ],
   "source": [
    "c = 100\n",
    "kernel_ = 'sigmoid' \n",
    "gamma_ = 5\n",
    "deg = 5\n",
    "\n",
    "clf = SVC(C=c, kernel=kernel_, gamma=gamma_, degree=deg)\n",
    "\n",
    "clf.fit(train_X, train_Y)"
   ]
  },
  {
   "cell_type": "markdown",
   "metadata": {},
   "source": [
    "#### Make Predictions "
   ]
  },
  {
   "cell_type": "code",
   "execution_count": 257,
   "metadata": {},
   "outputs": [],
   "source": [
    "y_pred = clf.predict(test_X)"
   ]
  },
  {
   "cell_type": "markdown",
   "metadata": {},
   "source": [
    "#### Metrics"
   ]
  },
  {
   "cell_type": "code",
   "execution_count": 258,
   "metadata": {},
   "outputs": [
    {
     "name": "stdout",
     "output_type": "stream",
     "text": [
      "Accuracy :  0.7398\n",
      "Recall :    0.7857\n",
      "Precision : 0.7196\n",
      "F1 Score :  0.7512\n"
     ]
    }
   ],
   "source": [
    "print(\"Accuracy : %7.4f\" % accuracy_score(test_Y, y_pred))\n",
    "print(\"Recall : %9.4f\" % recall_score(test_Y, y_pred))\n",
    "print(\"Precision : %2.4f\" % precision_score(test_Y, y_pred))\n",
    "print(\"F1 Score : %7.4f\" % f1_score(test_Y, y_pred))"
   ]
  },
  {
   "cell_type": "code",
   "execution_count": 259,
   "metadata": {},
   "outputs": [
    {
     "name": "stdout",
     "output_type": "stream",
     "text": [
      "(Actually Fraudulant transactions) TP: 77\n",
      "(Legit transactions classified as fraudulant) FP: 30\n",
      "(Actually Legit transactions) TN: 68\n",
      "(Fraudulant transactions classified as legitimate) FN: 21\n"
     ]
    }
   ],
   "source": [
    "tn, fp, fn, tp = confusion_matrix(test_Y, y_pred, labels=[0, 1]).ravel()\n",
    "\n",
    "print(\"(Actually Fraudulant transactions) TP:\", tp)\n",
    "print(\"(Legit transactions classified as fraudulant) FP:\", fp)\n",
    "print(\"(Actually Legit transactions) TN:\", tn)\n",
    "print(\"(Fraudulant transactions classified as legitimate) FN:\", fn)\n"
   ]
  }
 ],
 "metadata": {
  "interpreter": {
   "hash": "18e396f74e0be925fff39012dface06dcb4ee93bcd01f6664059f1b92a4d49a1"
  },
  "kernelspec": {
   "display_name": "Python 3.9.8 64-bit",
   "language": "python",
   "name": "python3"
  },
  "language_info": {
   "codemirror_mode": {
    "name": "ipython",
    "version": 3
   },
   "file_extension": ".py",
   "mimetype": "text/x-python",
   "name": "python",
   "nbconvert_exporter": "python",
   "pygments_lexer": "ipython3",
   "version": "3.9.8"
  },
  "orig_nbformat": 4
 },
 "nbformat": 4,
 "nbformat_minor": 2
}
