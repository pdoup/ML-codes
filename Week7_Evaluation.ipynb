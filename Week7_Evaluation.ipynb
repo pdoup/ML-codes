{
 "cells": [
  {
   "cell_type": "markdown",
   "metadata": {},
   "source": [
    "# Task 6 - Evaluation"
   ]
  },
  {
   "cell_type": "markdown",
   "metadata": {},
   "source": [
    "#### Χρησιμοποιώντας ένα dataset της επιλογής σας, και εκπαιδεύοντας έναν αλγόριθμο μηχανικής μάθησης της επιλογής σας, να υπολογίσετε με την μέθοδο Leave-One-Out Cross-Validation την απόδοση του μοντέλου (accuracy), και στη συνέχεια να υπολογίσετε τις τιμές των True Positive, True Negative, False Positive, False Negative για την ίδια μετρική. Να παραδοθεί μόνον ο κώδικας."
   ]
  },
  {
   "cell_type": "code",
   "execution_count": 27,
   "metadata": {},
   "outputs": [],
   "source": [
    "from sklearn import datasets\n",
    "from sklearn.linear_model import LogisticRegression\n",
    "from sklearn.model_selection import LeaveOneOut\n",
    "from sklearn.metrics import accuracy_score, confusion_matrix\n",
    "\n",
    "import numpy as np"
   ]
  },
  {
   "cell_type": "markdown",
   "metadata": {},
   "source": [
    "### Load the Breast cancer dataset "
   ]
  },
  {
   "cell_type": "code",
   "execution_count": 28,
   "metadata": {},
   "outputs": [],
   "source": [
    "# Load dataset\n",
    "\n",
    "X, y = datasets.load_breast_cancer(return_X_y=True)\n",
    "\n",
    "X = X[:, (1,3,5)]"
   ]
  },
  {
   "cell_type": "markdown",
   "metadata": {},
   "source": [
    "### Use Leave One Out CV to estimate the accuracy"
   ]
  },
  {
   "cell_type": "code",
   "execution_count": 29,
   "metadata": {},
   "outputs": [],
   "source": [
    "# Create the splits w/ LOOCV\n",
    "\n",
    "loocv = LeaveOneOut()\n",
    "\n",
    "accuracies = []\n",
    "y_tests = []\n",
    "y_preds = []\n",
    "\n",
    "for train_idx, test_idx in loocv.split(X, y):\n",
    "    X_train, X_test = X[train_idx,], X[test_idx,]\n",
    "    y_train, y_test = y[train_idx], y[test_idx]\n",
    "    y_pred = LogisticRegression(max_iter=150, solver='lbfgs', multi_class='ovr').fit(X_train, y_train).predict(X_test)\n",
    "    accuracies += [accuracy_score(y_test, y_pred)]\n",
    "    y_tests += [y_test]\n",
    "    y_preds += [y_pred]\n"
   ]
  },
  {
   "cell_type": "code",
   "execution_count": 30,
   "metadata": {},
   "outputs": [
    {
     "name": "stdout",
     "output_type": "stream",
     "text": [
      "Accuracy of Logistic Regression model w/ LOOCV: 0.8963\n",
      "\n",
      "True Positives:  336\n",
      "True Negatives:  174\n",
      "False Positives: 38\n",
      "False Negatives: 21\n"
     ]
    }
   ],
   "source": [
    "print(\"Accuracy of Logistic Regression model w/ LOOCV:\", np.round(np.mean(accuracies),4), end='\\n\\n')\n",
    "\n",
    "tn, fp, fn, tp = confusion_matrix(y_tests, y_preds).ravel()\n",
    "\n",
    "print(\"True Positives:%5i\" % tp)\n",
    "print(\"True Negatives:%5i\" % tn)\n",
    "print(\"False Positives:\", fp)\n",
    "print(\"False Negatives:\", fn)"
   ]
  }
 ],
 "metadata": {
  "interpreter": {
   "hash": "18e396f74e0be925fff39012dface06dcb4ee93bcd01f6664059f1b92a4d49a1"
  },
  "kernelspec": {
   "display_name": "Python 3.9.8 64-bit",
   "language": "python",
   "name": "python3"
  },
  "language_info": {
   "codemirror_mode": {
    "name": "ipython",
    "version": 3
   },
   "file_extension": ".py",
   "mimetype": "text/x-python",
   "name": "python",
   "nbconvert_exporter": "python",
   "pygments_lexer": "ipython3",
   "version": "3.9.8"
  },
  "orig_nbformat": 4
 },
 "nbformat": 4,
 "nbformat_minor": 2
}
